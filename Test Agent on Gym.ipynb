{
 "cells": [
  {
   "cell_type": "code",
   "execution_count": 1,
   "metadata": {},
   "outputs": [],
   "source": [
    "from agent import Agent\n",
    "from agent import sample_tracjectory, sample_trajectories, collect_trajectories, pathlength\n",
    "import numpy as np\n",
    "import gym\n",
    "import torch\n",
    "import matplotlib.pyplot as plt"
   ]
  },
  {
   "cell_type": "code",
   "execution_count": 2,
   "metadata": {},
   "outputs": [],
   "source": [
    "#Create and train an agent.\n",
    "#Returns reward for each\n",
    "def train_agent(param_dict, env_name, double, n_iter):\n",
    "    #Get enviorment parameters.\n",
    "    env = gym.make(env_name)\n",
    "    \n",
    "    #get path length.\n",
    "    max_path_length = env.spec.max_episode_steps or param_dict['max_path_length']\n",
    "    \n",
    "    #discrete\n",
    "    discrete = isinstance(env.action_space, gym.spaces.Discrete)\n",
    "    \n",
    "    #spaces\n",
    "    ob_dim = env.observation_space.shape[0]\n",
    "    ac_dim = env.action_space.n if discrete else env.action_space.shape[0]\n",
    "    \n",
    "    #Build agent.\n",
    "    policy_dict = {'ob_dim': ob_dim, 'ac_dim': ac_dim, 'discrete': discrete, 'size': param_dict['size'], 'n_layers':param_dict['n_layers'], 'learning_rate': param_dict['learning_rate']}\n",
    "    sample_traj = {'animate': False, 'max_path_length': max_path_length, 'min_timesteps_per_batch': param_dict['min_timesteps_per_batch']}\n",
    "    return_args = {'gamma': param_dict['gamma'], 'reward_to_go':param_dict['reward_to_go'], 'nn_baseline':param_dict['nn_baseline'], 'normalize_advantages': param_dict['normalize_advantages']}\n",
    "    \n",
    "    agent = Agent(policy_dict, sample_traj, return_args)\n",
    "    agent.build_policy(double=double)\n",
    "    \n",
    "    returns = []\n",
    "    ep_lengths = []\n",
    "    params = []\n",
    "    for itr in range(n_iter):\n",
    "        #Sample Trajectories.\n",
    "        paths, num_steps = sample_trajectories(agent, itr, env)\n",
    "        #print(paths)\n",
    "        obs_no, ac_na, params, re_n = collect_trajectories(paths)\n",
    "        \n",
    "        q_n, adv_n = agent.estimate_return(obs_no, re_n)\n",
    "        agent.update_parameters(obs_no, ac_na, params, q_n, adv_n)\n",
    "    \n",
    "        #Output the final returns.\n",
    "        returns = returns + [path[\"reward\"].sum().detach().numpy() for path in paths]\n",
    "        #params = params + [path[\"param\"].detach().numpy() for path in paths]\n",
    "        ep_lengths = ep_lengths + [pathlength(path) for path in paths]\n",
    "        \n",
    "    return agent, np.array(returns), ep_lengths, paths\n",
    "        "
   ]
  },
  {
   "cell_type": "code",
   "execution_count": 3,
   "metadata": {},
   "outputs": [],
   "source": [
    "param_dict = {'name':'CartPole-v0', 'n_iter':500, 'min_timesteps_per_batch':1000, 'reward_to_go':True, 'size': 64, 'n_layers':2, 'learning_rate': 5e-3, 'gamma':0.99, 'nn_baseline':False, 'normalize_advantages':True}"
   ]
  },
  {
   "cell_type": "code",
   "execution_count": 4,
   "metadata": {
    "scrolled": true
   },
   "outputs": [
    {
     "name": "stdout",
     "output_type": "stream",
     "text": [
      "\u001b[33mWARN: gym.spaces.Box autodetected dtype as <class 'numpy.float32'>. Please provide explicit dtype.\u001b[0m\n"
     ]
    }
   ],
   "source": [
    "agent, returns, ep_lengths, paths = train_agent(param_dict, param_dict['name'], True, param_dict['n_iter'])"
   ]
  },
  {
   "cell_type": "code",
   "execution_count": 5,
   "metadata": {
    "scrolled": true
   },
   "outputs": [
    {
     "data": {
      "text/plain": [
       "[<matplotlib.lines.Line2D at 0x7fd3c789a550>]"
      ]
     },
     "execution_count": 5,
     "metadata": {},
     "output_type": "execute_result"
    },
    {
     "data": {
      "image/png": "[encoded data removed]",
      "text/plain": [
       "<Figure size 432x288 with 1 Axes>"
      ]
     },
     "metadata": {
      "needs_background": "light"
     },
     "output_type": "display_data"
    }
   ],
   "source": [
    "plt.plot(returns)"
   ]
  },
  {
   "cell_type": "code",
   "execution_count": null,
   "metadata": {},
   "outputs": [],
   "source": []
  },
  {
   "cell_type": "code",
   "execution_count": null,
   "metadata": {},
   "outputs": [],
   "source": []
  },
  {
   "cell_type": "code",
   "execution_count": null,
   "metadata": {},
   "outputs": [],
   "source": []
  },
  {
   "cell_type": "code",
   "execution_count": null,
   "metadata": {},
   "outputs": [],
   "source": []
  },
  {
   "cell_type": "code",
   "execution_count": null,
   "metadata": {},
   "outputs": [],
   "source": []
  },
  {
   "cell_type": "code",
   "execution_count": null,
   "metadata": {},
   "outputs": [],
   "source": []
  },
  {
   "cell_type": "code",
   "execution_count": null,
   "metadata": {},
   "outputs": [],
   "source": []
  },
  {
   "cell_type": "code",
   "execution_count": null,
   "metadata": {},
   "outputs": [],
   "source": []
  }
 ],
 "metadata": {
  "kernelspec": {
   "display_name": "Python 3",
   "language": "python",
   "name": "python3"
  },
  "language_info": {
   "codemirror_mode": {
    "name": "ipython",
    "version": 3
   },
   "file_extension": ".py",
   "mimetype": "text/x-python",
   "name": "python",
   "nbconvert_exporter": "python",
   "pygments_lexer": "ipython3",
   "version": "3.6.7"
  }
 },
 "nbformat": 4,
 "nbformat_minor": 2
}
