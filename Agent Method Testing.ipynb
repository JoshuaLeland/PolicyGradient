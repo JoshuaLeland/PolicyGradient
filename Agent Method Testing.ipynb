{
 "cells": [
  {
   "cell_type": "code",
   "execution_count": 1,
   "metadata": {},
   "outputs": [],
   "source": [
    "from agent import Agent\n",
    "from agent import sample_tracjectory, sample_trajectories, collect_trajectories\n",
    "import numpy as np\n",
    "import gym\n",
    "import torch"
   ]
  },
  {
   "cell_type": "code",
   "execution_count": 2,
   "metadata": {},
   "outputs": [],
   "source": [
    "policy_dict1 = {'ob_dim': 5, 'ac_dim': 2, 'discrete': True, 'size': 3, 'n_layers':5, 'learning_rate': 0.001}\n",
    "sample_traj1 = {'animate': False, 'max_path_length': 500, 'min_timesteps_per_batch': 10}\n",
    "return_args1 = {'gamma': 0.9, 'reward_to_go':True, 'nn_baseline':False, 'normalize_advantages': False}\n",
    "policy_dict2 = {'ob_dim': 5, 'ac_dim': 2, 'discrete': False, 'size': 3, 'n_layers':5, 'learning_rate': 0.001}\n",
    "return_args2 = {'gamma': 0.9, 'reward_to_go':False, 'nn_baseline':False, 'normalize_advantages': True}"
   ]
  },
  {
   "cell_type": "code",
   "execution_count": 3,
   "metadata": {},
   "outputs": [],
   "source": [
    "#Build two agents for both test cases.\n",
    "a1 = Agent(policy_dict1, sample_traj1, return_args1)\n",
    "a2 = Agent(policy_dict2, sample_traj1, return_args2)"
   ]
  },
  {
   "cell_type": "code",
   "execution_count": 4,
   "metadata": {
    "scrolled": true
   },
   "outputs": [],
   "source": [
    "#Build their policy.\n",
    "a1.build_policy(False)\n",
    "a2.build_policy(False)"
   ]
  },
  {
   "cell_type": "code",
   "execution_count": 5,
   "metadata": {},
   "outputs": [
    {
     "data": {
      "text/plain": [
       "tensor([[0.1267, 0.7362]], grad_fn=<AddmmBackward>)"
      ]
     },
     "execution_count": 5,
     "metadata": {},
     "output_type": "execute_result"
    }
   ],
   "source": [
    "a1.policy(torch.Tensor([[1, 2, 3, 4, 5]]))"
   ]
  },
  {
   "cell_type": "code",
   "execution_count": 6,
   "metadata": {},
   "outputs": [
    {
     "data": {
      "text/plain": [
       "tensor([0, 1])"
      ]
     },
     "execution_count": 6,
     "metadata": {},
     "output_type": "execute_result"
    }
   ],
   "source": [
    "testTensor = torch.tensor([[1.0, 2.0, 0.0,4.,5.], [4., 5., 6.,1.,2.]])\n",
    "aa1 = a1.sample_action(a1.policy(testTensor))\n",
    "aa1"
   ]
  },
  {
   "cell_type": "code",
   "execution_count": 7,
   "metadata": {},
   "outputs": [
    {
     "data": {
      "text/plain": [
       "tensor([[-0.8048, -0.2212],\n",
       "        [ 1.4363, -1.4340]])"
      ]
     },
     "execution_count": 7,
     "metadata": {},
     "output_type": "execute_result"
    }
   ],
   "source": [
    "aa2 = a2.sample_action(a2.policy(testTensor))\n",
    "aa2"
   ]
  },
  {
   "cell_type": "code",
   "execution_count": 8,
   "metadata": {
    "scrolled": true
   },
   "outputs": [
    {
     "data": {
      "text/plain": [
       "tensor([-1.0592, -0.4240], grad_fn=<SqueezeBackward1>)"
      ]
     },
     "execution_count": 8,
     "metadata": {},
     "output_type": "execute_result"
    }
   ],
   "source": [
    "a1.get_log_prob(a1.policy(testTensor), aa1)"
   ]
  },
  {
   "cell_type": "code",
   "execution_count": 9,
   "metadata": {},
   "outputs": [
    {
     "data": {
      "text/plain": [
       "tensor([[-1.5276, -0.5711],\n",
       "        [-1.5853, -1.6476]], grad_fn=<SubBackward0>)"
      ]
     },
     "execution_count": 9,
     "metadata": {},
     "output_type": "execute_result"
    }
   ],
   "source": [
    "a2.get_log_prob(a2.policy(testTensor), aa2)"
   ]
  },
  {
   "cell_type": "code",
   "execution_count": 10,
   "metadata": {},
   "outputs": [
    {
     "data": {
      "text/plain": [
       "tensor(-1.3062, grad_fn=<SumBackward0>)"
      ]
     },
     "execution_count": 10,
     "metadata": {},
     "output_type": "execute_result"
    }
   ],
   "source": [
    "lossa1 = a1.calculate_loss(a1.policy(testTensor),aa1, torch.rand(2))\n",
    "lossa1"
   ]
  },
  {
   "cell_type": "code",
   "execution_count": 11,
   "metadata": {},
   "outputs": [
    {
     "data": {
      "text/plain": [
       "tensor(-3.7015, grad_fn=<SumBackward0>)"
      ]
     },
     "execution_count": 11,
     "metadata": {},
     "output_type": "execute_result"
    }
   ],
   "source": [
    "lossa2 = a2.calculate_loss(a2.policy(testTensor),aa2, torch.rand(2))\n",
    "lossa2"
   ]
  },
  {
   "cell_type": "code",
   "execution_count": 12,
   "metadata": {},
   "outputs": [
    {
     "data": {
      "text/plain": [
       "tensor([2.2543, 2.2698, 2.4934, 2.2208, 1.9453, 1.8362, 1.7170, 1.5633, 1.5025,\n",
       "        0.6620, 2.3047, 1.6790, 1.7620, 0.9241, 0.1591])"
      ]
     },
     "execution_count": 12,
     "metadata": {},
     "output_type": "execute_result"
    }
   ],
   "source": [
    "a1.sum_of_rewards([torch.rand(10), torch.rand(5)])"
   ]
  },
  {
   "cell_type": "code",
   "execution_count": 13,
   "metadata": {},
   "outputs": [
    {
     "data": {
      "text/plain": [
       "tensor([3.7874, 3.7874, 3.7874, 3.7874, 3.7874, 3.7874, 3.7874, 3.7874, 3.7874,\n",
       "        3.7874, 2.9524, 2.9524, 2.9524, 2.9524, 2.9524])"
      ]
     },
     "execution_count": 13,
     "metadata": {},
     "output_type": "execute_result"
    }
   ],
   "source": [
    "a2.sum_of_rewards([torch.rand(10), torch.rand(5)])"
   ]
  },
  {
   "cell_type": "code",
   "execution_count": 14,
   "metadata": {},
   "outputs": [
    {
     "data": {
      "text/plain": [
       "(tensor([3.2745, 3.2745, 3.2745, 3.2745, 3.2745, 3.2745, 3.2745, 3.2745, 3.2745,\n",
       "         3.2745, 3.3727, 3.3727, 3.3727, 3.3727, 3.3727, 3.3727, 3.3727, 3.3727,\n",
       "         3.3727, 3.3727]),\n",
       " tensor([-0.9747, -0.9747, -0.9747, -0.9747, -0.9747, -0.9747, -0.9747, -0.9747,\n",
       "         -0.9747, -0.9747,  0.9747,  0.9747,  0.9747,  0.9747,  0.9747,  0.9747,\n",
       "          0.9747,  0.9747,  0.9747,  0.9747]))"
      ]
     },
     "execution_count": 14,
     "metadata": {},
     "output_type": "execute_result"
    }
   ],
   "source": [
    "a2.estimate_return(torch.rand(20,5),[torch.rand(10), torch.rand(10)])"
   ]
  },
  {
   "cell_type": "code",
   "execution_count": 15,
   "metadata": {},
   "outputs": [
    {
     "data": {
      "text/plain": [
       "(tensor([2.1984, 2.1961, 2.0828, 1.6100, 1.6407, 1.2491, 1.3053, 1.2550, 0.6516,\n",
       "         0.6362]),\n",
       " tensor([2.1984, 2.1961, 2.0828, 1.6100, 1.6407, 1.2491, 1.3053, 1.2550, 0.6516,\n",
       "         0.6362]))"
      ]
     },
     "execution_count": 15,
     "metadata": {},
     "output_type": "execute_result"
    }
   ],
   "source": [
    "a1.estimate_return(torch.rand(10,5),[torch.rand(10)])"
   ]
  },
  {
   "cell_type": "code",
   "execution_count": 16,
   "metadata": {},
   "outputs": [
    {
     "name": "stdout",
     "output_type": "stream",
     "text": [
      "\u001b[33mWARN: gym.spaces.Box autodetected dtype as <class 'numpy.float32'>. Please provide explicit dtype.\u001b[0m\n",
      "\u001b[33mWARN: gym.spaces.Box autodetected dtype as <class 'numpy.float32'>. Please provide explicit dtype.\u001b[0m\n"
     ]
    }
   ],
   "source": [
    "#Test trajectory helper functions.\n",
    "env = gym.make('Pendulum-v0')"
   ]
  },
  {
   "cell_type": "code",
   "execution_count": 17,
   "metadata": {},
   "outputs": [],
   "source": [
    "policy_dict3 = {'ob_dim': 3, 'ac_dim': 1, 'discrete': False, 'size': 3, 'n_layers':5, 'learning_rate': 0.001}\n",
    "sample_traj3 = {'animate': False, 'max_path_length': 500, 'min_timesteps_per_batch': 10}\n",
    "return_args3 = {'gamma': 0.9, 'reward_to_go':True, 'nn_baseline':True, 'normalize_advantages': True}"
   ]
  },
  {
   "cell_type": "code",
   "execution_count": 18,
   "metadata": {},
   "outputs": [],
   "source": [
    "a3 = Agent(policy_dict3, sample_traj3, return_args3)\n",
    "a3.build_policy(double=True)"
   ]
  },
  {
   "cell_type": "code",
   "execution_count": 19,
   "metadata": {},
   "outputs": [
    {
     "data": {
      "text/plain": [
       "{'observation': tensor([[-0.9252, -0.3794,  2.0289]], dtype=torch.float64),\n",
       " 'reward': tensor([-8.5259], dtype=torch.float64),\n",
       " 'action': tensor([2.4556], dtype=torch.float64)}"
      ]
     },
     "execution_count": 19,
     "metadata": {},
     "output_type": "execute_result"
    }
   ],
   "source": [
    "sample_tracjectory(a3, env, False)"
   ]
  },
  {
   "cell_type": "code",
   "execution_count": 20,
   "metadata": {},
   "outputs": [],
   "source": [
    "paths, num_steps = sample_trajectories(a3,1,env)"
   ]
  },
  {
   "cell_type": "code",
   "execution_count": 21,
   "metadata": {},
   "outputs": [],
   "source": [
    "obs_no, ac_na, re_n = collect_trajectories(paths)"
   ]
  },
  {
   "cell_type": "code",
   "execution_count": 22,
   "metadata": {},
   "outputs": [
    {
     "data": {
      "text/plain": [
       "tensor([[ 0.7813, -0.6242,  2.7669],\n",
       "        [-0.9941, -0.1087, -3.2835],\n",
       "        [-0.5863,  0.8101,  6.0939],\n",
       "        [-0.9985, -0.0544, -3.1749],\n",
       "        [-0.5221,  0.8529, -0.5398],\n",
       "        [ 0.9255, -0.3787,  1.9358],\n",
       "        [ 0.0324,  0.9995,  1.3008],\n",
       "        [-0.7631,  0.6463,  4.1819],\n",
       "        [ 0.1379, -0.9904,  5.4660],\n",
       "        [-0.9976, -0.0688, -6.3469],\n",
       "        [-0.6482, -0.7615,  5.1368]], dtype=torch.float64)"
      ]
     },
     "execution_count": 22,
     "metadata": {},
     "output_type": "execute_result"
    }
   ],
   "source": [
    "obs_no"
   ]
  },
  {
   "cell_type": "code",
   "execution_count": 23,
   "metadata": {},
   "outputs": [
    {
     "data": {
      "text/plain": [
       "tensor([ 1.2667,  3.7430, -2.4929,  1.2624, -2.3471, -1.6284, -0.7426, -0.3957,\n",
       "         0.9992, -1.0601, -2.1986], dtype=torch.float64)"
      ]
     },
     "execution_count": 23,
     "metadata": {},
     "output_type": "execute_result"
    }
   ],
   "source": [
    "ac_na"
   ]
  },
  {
   "cell_type": "code",
   "execution_count": 24,
   "metadata": {},
   "outputs": [
    {
     "data": {
      "text/plain": [
       "[tensor([-1.6360], dtype=torch.float64),\n",
       " tensor([-9.3757], dtype=torch.float64),\n",
       " tensor([-6.8147], dtype=torch.float64),\n",
       " tensor([-9.6051], dtype=torch.float64),\n",
       " tensor([-4.6893], dtype=torch.float64),\n",
       " tensor([-0.8781], dtype=torch.float64),\n",
       " tensor([-2.2157], dtype=torch.float64),\n",
       " tensor([-6.3033], dtype=torch.float64),\n",
       " tensor([-6.5819], dtype=torch.float64),\n",
       " tensor([-11.0809], dtype=torch.float64),\n",
       " tensor([-9.8600], dtype=torch.float64)]"
      ]
     },
     "execution_count": 24,
     "metadata": {},
     "output_type": "execute_result"
    }
   ],
   "source": [
    "re_n"
   ]
  },
  {
   "cell_type": "code",
   "execution_count": 25,
   "metadata": {},
   "outputs": [],
   "source": [
    "r = a3.sum_of_rewards(re_n)"
   ]
  },
  {
   "cell_type": "code",
   "execution_count": 26,
   "metadata": {},
   "outputs": [],
   "source": [
    "q_n, adv_n = a3.estimate_return(obs_no, re_n)"
   ]
  },
  {
   "cell_type": "code",
   "execution_count": 27,
   "metadata": {},
   "outputs": [
    {
     "data": {
      "text/plain": [
       "tensor([ -1.6360,  -9.3757,  -6.8147,  -9.6051,  -4.6893,  -0.8781,  -2.2157,\n",
       "         -6.3033,  -6.5819, -11.0809,  -9.8600], dtype=torch.float64)"
      ]
     },
     "execution_count": 27,
     "metadata": {},
     "output_type": "execute_result"
    }
   ],
   "source": [
    "q_n"
   ]
  },
  {
   "cell_type": "code",
   "execution_count": 28,
   "metadata": {},
   "outputs": [
    {
     "data": {
      "text/plain": [
       "tensor([ 0.8038, -0.7628,  0.0495, -0.7535,  0.9252,  1.0442,  1.1813,  0.3813,\n",
       "        -0.2567, -2.0926, -0.5196], dtype=torch.float64)"
      ]
     },
     "execution_count": 28,
     "metadata": {},
     "output_type": "execute_result"
    }
   ],
   "source": [
    "adv_n"
   ]
  },
  {
   "cell_type": "code",
   "execution_count": 29,
   "metadata": {},
   "outputs": [],
   "source": [
    "a3.update_parameters(obs_no, ac_na, q_n, adv_n)"
   ]
  },
  {
   "cell_type": "code",
   "execution_count": 30,
   "metadata": {},
   "outputs": [
    {
     "data": {
      "text/plain": [
       "Box(1,)"
      ]
     },
     "execution_count": 30,
     "metadata": {},
     "output_type": "execute_result"
    }
   ],
   "source": [
    "env.action_space"
   ]
  },
  {
   "cell_type": "code",
   "execution_count": 31,
   "metadata": {},
   "outputs": [
    {
     "data": {
      "text/plain": [
       "Box(3,)"
      ]
     },
     "execution_count": 31,
     "metadata": {},
     "output_type": "execute_result"
    }
   ],
   "source": [
    "env.observation_space"
   ]
  },
  {
   "cell_type": "code",
   "execution_count": 39,
   "metadata": {},
   "outputs": [],
   "source": [
    "ob = env.reset()"
   ]
  },
  {
   "cell_type": "code",
   "execution_count": 43,
   "metadata": {},
   "outputs": [
    {
     "data": {
      "text/plain": [
       "tensor([0.0831, 0.4431], dtype=torch.float64)"
      ]
     },
     "execution_count": 43,
     "metadata": {},
     "output_type": "execute_result"
    }
   ],
   "source": [
    "a3.policy(torch.tensor(ob)).detach()"
   ]
  },
  {
   "cell_type": "code",
   "execution_count": 44,
   "metadata": {},
   "outputs": [
    {
     "data": {
      "text/plain": [
       "array([-0.44976461,  0.89314713, -0.92367588])"
      ]
     },
     "execution_count": 44,
     "metadata": {},
     "output_type": "execute_result"
    }
   ],
   "source": [
    "ob"
   ]
  },
  {
   "cell_type": "code",
   "execution_count": 45,
   "metadata": {},
   "outputs": [
    {
     "data": {
      "text/plain": [
       "tensor([0.8369], dtype=torch.float64)"
      ]
     },
     "execution_count": 45,
     "metadata": {},
     "output_type": "execute_result"
    }
   ],
   "source": [
    "a3.sample_action(a3.policy(torch.tensor(ob)))"
   ]
  },
  {
   "cell_type": "code",
   "execution_count": 48,
   "metadata": {},
   "outputs": [],
   "source": [
    "ob, rew, done, _ = env.step(a3.sample_action(a3.policy(torch.tensor(ob))).numpy())"
   ]
  },
  {
   "cell_type": "code",
   "execution_count": 49,
   "metadata": {},
   "outputs": [
    {
     "data": {
      "text/plain": [
       "False"
      ]
     },
     "execution_count": 49,
     "metadata": {},
     "output_type": "execute_result"
    }
   ],
   "source": [
    "done"
   ]
  },
  {
   "cell_type": "code",
   "execution_count": null,
   "metadata": {},
   "outputs": [],
   "source": []
  }
 ],
 "metadata": {
  "kernelspec": {
   "display_name": "Python 3",
   "language": "python",
   "name": "python3"
  },
  "language_info": {
   "codemirror_mode": {
    "name": "ipython",
    "version": 3
   },
   "file_extension": ".py",
   "mimetype": "text/x-python",
   "name": "python",
   "nbconvert_exporter": "python",
   "pygments_lexer": "ipython3",
   "version": "3.6.7"
  }
 },
 "nbformat": 4,
 "nbformat_minor": 2
}
